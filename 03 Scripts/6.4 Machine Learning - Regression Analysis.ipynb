{
 "cells": [
  {
   "cell_type": "markdown",
   "id": "11e022e9",
   "metadata": {},
   "source": [
    "# 6.4 Supervised Machine Learning - Regression\n",
    "\n",
    "### 1. Importing librares and data\n",
    "### 2. Data cleaning\n",
    "### 3. Data prep for regression analysis\n",
    "### 4. Regression analysis"
   ]
  },
  {
   "cell_type": "markdown",
   "id": "6f7500a7",
   "metadata": {},
   "source": [
    "### 1. Importing libraries and data"
   ]
  },
  {
   "cell_type": "code",
   "execution_count": 92,
   "id": "7a32b7b1",
   "metadata": {},
   "outputs": [],
   "source": [
    "import pandas as pd\n",
    "import numpy as np\n",
    "import seaborn as sns\n",
    "import matplotlib\n",
    "import matplotlib.pyplot as plt\n",
    "import os\n",
    "import sklearn\n",
    "from sklearn.model_selection import train_test_split \n",
    "from sklearn.linear_model import LinearRegression\n",
    "from sklearn.metrics import mean_squared_error, r2_score"
   ]
  },
  {
   "cell_type": "code",
   "execution_count": 93,
   "id": "a2727de3",
   "metadata": {},
   "outputs": [],
   "source": [
    "# This option ensures that the graphs you create are displayed within the notebook without the need to \"call\" them specifically.\n",
    "\n",
    "%matplotlib inline"
   ]
  },
  {
   "cell_type": "code",
   "execution_count": 94,
   "id": "5aba9f67",
   "metadata": {},
   "outputs": [],
   "source": [
    "# Set path\n",
    "\n",
    "path = r'/Users/shaheirjibin/Documents/Data Analytics/02 Data Analytics Immersion/06 Advanced Analytics & Dashboard Design/Petrol stations in Germany'"
   ]
  },
  {
   "cell_type": "code",
   "execution_count": 95,
   "id": "4a95d2ef",
   "metadata": {},
   "outputs": [],
   "source": [
    "# Import petrol stations in Germany dataset\n",
    "\n",
    "df = pd.read_csv(os.path.join(path, '02 Data', 'Prepared Data', 'petrol_state.csv'))"
   ]
  },
  {
   "cell_type": "code",
   "execution_count": 96,
   "id": "064ddca2",
   "metadata": {},
   "outputs": [
    {
     "data": {
      "text/html": [
       "<div>\n",
       "<style scoped>\n",
       "    .dataframe tbody tr th:only-of-type {\n",
       "        vertical-align: middle;\n",
       "    }\n",
       "\n",
       "    .dataframe tbody tr th {\n",
       "        vertical-align: top;\n",
       "    }\n",
       "\n",
       "    .dataframe thead th {\n",
       "        text-align: right;\n",
       "    }\n",
       "</style>\n",
       "<table border=\"1\" class=\"dataframe\">\n",
       "  <thead>\n",
       "    <tr style=\"text-align: right;\">\n",
       "      <th></th>\n",
       "      <th>Unnamed: 0</th>\n",
       "      <th>uuid</th>\n",
       "      <th>name</th>\n",
       "      <th>brand</th>\n",
       "      <th>street</th>\n",
       "      <th>house_number</th>\n",
       "      <th>post_code</th>\n",
       "      <th>city</th>\n",
       "      <th>latitude</th>\n",
       "      <th>longitude</th>\n",
       "      <th>first_active</th>\n",
       "      <th>openingtimes_json</th>\n",
       "      <th>year</th>\n",
       "      <th>month</th>\n",
       "      <th>diesel</th>\n",
       "      <th>e5</th>\n",
       "      <th>e10</th>\n",
       "      <th>state</th>\n",
       "    </tr>\n",
       "  </thead>\n",
       "  <tbody>\n",
       "    <tr>\n",
       "      <th>0</th>\n",
       "      <td>0</td>\n",
       "      <td>0e18d0d3-ed38-4e7f-a18e-507a78ad901d</td>\n",
       "      <td>OIL! Tankstelle München</td>\n",
       "      <td>OIL!</td>\n",
       "      <td>Eversbuschstraße 33</td>\n",
       "      <td>NaN</td>\n",
       "      <td>80999</td>\n",
       "      <td>München</td>\n",
       "      <td>48.1807</td>\n",
       "      <td>11.46090</td>\n",
       "      <td>1970-01-01 01:00:00+01</td>\n",
       "      <td>{\"openingTimes\":[{\"applicable_days\":192,\"perio...</td>\n",
       "      <td>2023</td>\n",
       "      <td>1</td>\n",
       "      <td>1.814</td>\n",
       "      <td>1.766</td>\n",
       "      <td>1.706</td>\n",
       "      <td>Bayern</td>\n",
       "    </tr>\n",
       "    <tr>\n",
       "      <th>1</th>\n",
       "      <td>1</td>\n",
       "      <td>0e18d0d3-ed38-4e7f-a18e-507a78ad901d</td>\n",
       "      <td>OIL! Tankstelle München</td>\n",
       "      <td>OIL!</td>\n",
       "      <td>Eversbuschstraße 33</td>\n",
       "      <td>NaN</td>\n",
       "      <td>80999</td>\n",
       "      <td>München</td>\n",
       "      <td>48.1807</td>\n",
       "      <td>11.46090</td>\n",
       "      <td>1970-01-01 01:00:00+01</td>\n",
       "      <td>{\"openingTimes\":[{\"applicable_days\":192,\"perio...</td>\n",
       "      <td>2023</td>\n",
       "      <td>2</td>\n",
       "      <td>1.752</td>\n",
       "      <td>1.787</td>\n",
       "      <td>1.727</td>\n",
       "      <td>Bayern</td>\n",
       "    </tr>\n",
       "    <tr>\n",
       "      <th>2</th>\n",
       "      <td>2</td>\n",
       "      <td>0e18d0d3-ed38-4e7f-a18e-507a78ad901d</td>\n",
       "      <td>OIL! Tankstelle München</td>\n",
       "      <td>OIL!</td>\n",
       "      <td>Eversbuschstraße 33</td>\n",
       "      <td>NaN</td>\n",
       "      <td>80999</td>\n",
       "      <td>München</td>\n",
       "      <td>48.1807</td>\n",
       "      <td>11.46090</td>\n",
       "      <td>1970-01-01 01:00:00+01</td>\n",
       "      <td>{\"openingTimes\":[{\"applicable_days\":192,\"perio...</td>\n",
       "      <td>2023</td>\n",
       "      <td>3</td>\n",
       "      <td>1.723</td>\n",
       "      <td>1.813</td>\n",
       "      <td>1.753</td>\n",
       "      <td>Bayern</td>\n",
       "    </tr>\n",
       "    <tr>\n",
       "      <th>3</th>\n",
       "      <td>3</td>\n",
       "      <td>0e18d0d3-ed38-4e7f-a18e-507a78ad901d</td>\n",
       "      <td>OIL! Tankstelle München</td>\n",
       "      <td>OIL!</td>\n",
       "      <td>Eversbuschstraße 33</td>\n",
       "      <td>NaN</td>\n",
       "      <td>80999</td>\n",
       "      <td>München</td>\n",
       "      <td>48.1807</td>\n",
       "      <td>11.46090</td>\n",
       "      <td>1970-01-01 01:00:00+01</td>\n",
       "      <td>{\"openingTimes\":[{\"applicable_days\":192,\"perio...</td>\n",
       "      <td>2023</td>\n",
       "      <td>4</td>\n",
       "      <td>1.703</td>\n",
       "      <td>1.840</td>\n",
       "      <td>1.780</td>\n",
       "      <td>Bayern</td>\n",
       "    </tr>\n",
       "    <tr>\n",
       "      <th>4</th>\n",
       "      <td>4</td>\n",
       "      <td>ad812258-94e7-473d-aa80-d392f7532218</td>\n",
       "      <td>bft Bonn-Bad Godesberg</td>\n",
       "      <td>bft</td>\n",
       "      <td>Godesberger Allee</td>\n",
       "      <td>55</td>\n",
       "      <td>53175</td>\n",
       "      <td>Bonn</td>\n",
       "      <td>50.6951</td>\n",
       "      <td>7.14276</td>\n",
       "      <td>1970-01-01 01:00:00+01</td>\n",
       "      <td>{\"openingTimes\":[{\"applicable_days\":31,\"period...</td>\n",
       "      <td>2023</td>\n",
       "      <td>1</td>\n",
       "      <td>1.801</td>\n",
       "      <td>1.781</td>\n",
       "      <td>1.721</td>\n",
       "      <td>Nordrhein-Westfalen</td>\n",
       "    </tr>\n",
       "  </tbody>\n",
       "</table>\n",
       "</div>"
      ],
      "text/plain": [
       "   Unnamed: 0                                  uuid                     name  \\\n",
       "0           0  0e18d0d3-ed38-4e7f-a18e-507a78ad901d  OIL! Tankstelle München   \n",
       "1           1  0e18d0d3-ed38-4e7f-a18e-507a78ad901d  OIL! Tankstelle München   \n",
       "2           2  0e18d0d3-ed38-4e7f-a18e-507a78ad901d  OIL! Tankstelle München   \n",
       "3           3  0e18d0d3-ed38-4e7f-a18e-507a78ad901d  OIL! Tankstelle München   \n",
       "4           4  ad812258-94e7-473d-aa80-d392f7532218   bft Bonn-Bad Godesberg   \n",
       "\n",
       "  brand               street house_number  post_code     city  latitude  \\\n",
       "0  OIL!  Eversbuschstraße 33          NaN      80999  München   48.1807   \n",
       "1  OIL!  Eversbuschstraße 33          NaN      80999  München   48.1807   \n",
       "2  OIL!  Eversbuschstraße 33          NaN      80999  München   48.1807   \n",
       "3  OIL!  Eversbuschstraße 33          NaN      80999  München   48.1807   \n",
       "4   bft    Godesberger Allee           55      53175     Bonn   50.6951   \n",
       "\n",
       "   longitude            first_active  \\\n",
       "0   11.46090  1970-01-01 01:00:00+01   \n",
       "1   11.46090  1970-01-01 01:00:00+01   \n",
       "2   11.46090  1970-01-01 01:00:00+01   \n",
       "3   11.46090  1970-01-01 01:00:00+01   \n",
       "4    7.14276  1970-01-01 01:00:00+01   \n",
       "\n",
       "                                   openingtimes_json  year  month  diesel  \\\n",
       "0  {\"openingTimes\":[{\"applicable_days\":192,\"perio...  2023      1   1.814   \n",
       "1  {\"openingTimes\":[{\"applicable_days\":192,\"perio...  2023      2   1.752   \n",
       "2  {\"openingTimes\":[{\"applicable_days\":192,\"perio...  2023      3   1.723   \n",
       "3  {\"openingTimes\":[{\"applicable_days\":192,\"perio...  2023      4   1.703   \n",
       "4  {\"openingTimes\":[{\"applicable_days\":31,\"period...  2023      1   1.801   \n",
       "\n",
       "      e5    e10                state  \n",
       "0  1.766  1.706               Bayern  \n",
       "1  1.787  1.727               Bayern  \n",
       "2  1.813  1.753               Bayern  \n",
       "3  1.840  1.780               Bayern  \n",
       "4  1.781  1.721  Nordrhein-Westfalen  "
      ]
     },
     "execution_count": 96,
     "metadata": {},
     "output_type": "execute_result"
    }
   ],
   "source": [
    "df.head()"
   ]
  },
  {
   "cell_type": "markdown",
   "id": "da48d272",
   "metadata": {},
   "source": [
    "### 2. Data cleaning"
   ]
  },
  {
   "cell_type": "code",
   "execution_count": 97,
   "id": "d3ba367d",
   "metadata": {},
   "outputs": [],
   "source": [
    "# Drop column 'Unnamed: 0'\n",
    "\n",
    "df.drop('Unnamed: 0', axis=1, inplace=True)"
   ]
  },
  {
   "cell_type": "code",
   "execution_count": 98,
   "id": "5d0b92cd",
   "metadata": {},
   "outputs": [
    {
     "data": {
      "text/html": [
       "<div>\n",
       "<style scoped>\n",
       "    .dataframe tbody tr th:only-of-type {\n",
       "        vertical-align: middle;\n",
       "    }\n",
       "\n",
       "    .dataframe tbody tr th {\n",
       "        vertical-align: top;\n",
       "    }\n",
       "\n",
       "    .dataframe thead th {\n",
       "        text-align: right;\n",
       "    }\n",
       "</style>\n",
       "<table border=\"1\" class=\"dataframe\">\n",
       "  <thead>\n",
       "    <tr style=\"text-align: right;\">\n",
       "      <th></th>\n",
       "      <th>uuid</th>\n",
       "      <th>name</th>\n",
       "      <th>brand</th>\n",
       "      <th>street</th>\n",
       "      <th>house_number</th>\n",
       "      <th>post_code</th>\n",
       "      <th>city</th>\n",
       "      <th>latitude</th>\n",
       "      <th>longitude</th>\n",
       "      <th>first_active</th>\n",
       "      <th>openingtimes_json</th>\n",
       "      <th>year</th>\n",
       "      <th>month</th>\n",
       "      <th>diesel</th>\n",
       "      <th>e5</th>\n",
       "      <th>e10</th>\n",
       "      <th>state</th>\n",
       "    </tr>\n",
       "  </thead>\n",
       "  <tbody>\n",
       "    <tr>\n",
       "      <th>0</th>\n",
       "      <td>0e18d0d3-ed38-4e7f-a18e-507a78ad901d</td>\n",
       "      <td>OIL! Tankstelle München</td>\n",
       "      <td>OIL!</td>\n",
       "      <td>Eversbuschstraße 33</td>\n",
       "      <td>NaN</td>\n",
       "      <td>80999</td>\n",
       "      <td>München</td>\n",
       "      <td>48.1807</td>\n",
       "      <td>11.46090</td>\n",
       "      <td>1970-01-01 01:00:00+01</td>\n",
       "      <td>{\"openingTimes\":[{\"applicable_days\":192,\"perio...</td>\n",
       "      <td>2023</td>\n",
       "      <td>1</td>\n",
       "      <td>1.814</td>\n",
       "      <td>1.766</td>\n",
       "      <td>1.706</td>\n",
       "      <td>Bayern</td>\n",
       "    </tr>\n",
       "    <tr>\n",
       "      <th>1</th>\n",
       "      <td>0e18d0d3-ed38-4e7f-a18e-507a78ad901d</td>\n",
       "      <td>OIL! Tankstelle München</td>\n",
       "      <td>OIL!</td>\n",
       "      <td>Eversbuschstraße 33</td>\n",
       "      <td>NaN</td>\n",
       "      <td>80999</td>\n",
       "      <td>München</td>\n",
       "      <td>48.1807</td>\n",
       "      <td>11.46090</td>\n",
       "      <td>1970-01-01 01:00:00+01</td>\n",
       "      <td>{\"openingTimes\":[{\"applicable_days\":192,\"perio...</td>\n",
       "      <td>2023</td>\n",
       "      <td>2</td>\n",
       "      <td>1.752</td>\n",
       "      <td>1.787</td>\n",
       "      <td>1.727</td>\n",
       "      <td>Bayern</td>\n",
       "    </tr>\n",
       "    <tr>\n",
       "      <th>2</th>\n",
       "      <td>0e18d0d3-ed38-4e7f-a18e-507a78ad901d</td>\n",
       "      <td>OIL! Tankstelle München</td>\n",
       "      <td>OIL!</td>\n",
       "      <td>Eversbuschstraße 33</td>\n",
       "      <td>NaN</td>\n",
       "      <td>80999</td>\n",
       "      <td>München</td>\n",
       "      <td>48.1807</td>\n",
       "      <td>11.46090</td>\n",
       "      <td>1970-01-01 01:00:00+01</td>\n",
       "      <td>{\"openingTimes\":[{\"applicable_days\":192,\"perio...</td>\n",
       "      <td>2023</td>\n",
       "      <td>3</td>\n",
       "      <td>1.723</td>\n",
       "      <td>1.813</td>\n",
       "      <td>1.753</td>\n",
       "      <td>Bayern</td>\n",
       "    </tr>\n",
       "    <tr>\n",
       "      <th>3</th>\n",
       "      <td>0e18d0d3-ed38-4e7f-a18e-507a78ad901d</td>\n",
       "      <td>OIL! Tankstelle München</td>\n",
       "      <td>OIL!</td>\n",
       "      <td>Eversbuschstraße 33</td>\n",
       "      <td>NaN</td>\n",
       "      <td>80999</td>\n",
       "      <td>München</td>\n",
       "      <td>48.1807</td>\n",
       "      <td>11.46090</td>\n",
       "      <td>1970-01-01 01:00:00+01</td>\n",
       "      <td>{\"openingTimes\":[{\"applicable_days\":192,\"perio...</td>\n",
       "      <td>2023</td>\n",
       "      <td>4</td>\n",
       "      <td>1.703</td>\n",
       "      <td>1.840</td>\n",
       "      <td>1.780</td>\n",
       "      <td>Bayern</td>\n",
       "    </tr>\n",
       "    <tr>\n",
       "      <th>4</th>\n",
       "      <td>ad812258-94e7-473d-aa80-d392f7532218</td>\n",
       "      <td>bft Bonn-Bad Godesberg</td>\n",
       "      <td>bft</td>\n",
       "      <td>Godesberger Allee</td>\n",
       "      <td>55</td>\n",
       "      <td>53175</td>\n",
       "      <td>Bonn</td>\n",
       "      <td>50.6951</td>\n",
       "      <td>7.14276</td>\n",
       "      <td>1970-01-01 01:00:00+01</td>\n",
       "      <td>{\"openingTimes\":[{\"applicable_days\":31,\"period...</td>\n",
       "      <td>2023</td>\n",
       "      <td>1</td>\n",
       "      <td>1.801</td>\n",
       "      <td>1.781</td>\n",
       "      <td>1.721</td>\n",
       "      <td>Nordrhein-Westfalen</td>\n",
       "    </tr>\n",
       "  </tbody>\n",
       "</table>\n",
       "</div>"
      ],
      "text/plain": [
       "                                   uuid                     name brand  \\\n",
       "0  0e18d0d3-ed38-4e7f-a18e-507a78ad901d  OIL! Tankstelle München  OIL!   \n",
       "1  0e18d0d3-ed38-4e7f-a18e-507a78ad901d  OIL! Tankstelle München  OIL!   \n",
       "2  0e18d0d3-ed38-4e7f-a18e-507a78ad901d  OIL! Tankstelle München  OIL!   \n",
       "3  0e18d0d3-ed38-4e7f-a18e-507a78ad901d  OIL! Tankstelle München  OIL!   \n",
       "4  ad812258-94e7-473d-aa80-d392f7532218   bft Bonn-Bad Godesberg   bft   \n",
       "\n",
       "                street house_number  post_code     city  latitude  longitude  \\\n",
       "0  Eversbuschstraße 33          NaN      80999  München   48.1807   11.46090   \n",
       "1  Eversbuschstraße 33          NaN      80999  München   48.1807   11.46090   \n",
       "2  Eversbuschstraße 33          NaN      80999  München   48.1807   11.46090   \n",
       "3  Eversbuschstraße 33          NaN      80999  München   48.1807   11.46090   \n",
       "4    Godesberger Allee           55      53175     Bonn   50.6951    7.14276   \n",
       "\n",
       "             first_active                                  openingtimes_json  \\\n",
       "0  1970-01-01 01:00:00+01  {\"openingTimes\":[{\"applicable_days\":192,\"perio...   \n",
       "1  1970-01-01 01:00:00+01  {\"openingTimes\":[{\"applicable_days\":192,\"perio...   \n",
       "2  1970-01-01 01:00:00+01  {\"openingTimes\":[{\"applicable_days\":192,\"perio...   \n",
       "3  1970-01-01 01:00:00+01  {\"openingTimes\":[{\"applicable_days\":192,\"perio...   \n",
       "4  1970-01-01 01:00:00+01  {\"openingTimes\":[{\"applicable_days\":31,\"period...   \n",
       "\n",
       "   year  month  diesel     e5    e10                state  \n",
       "0  2023      1   1.814  1.766  1.706               Bayern  \n",
       "1  2023      2   1.752  1.787  1.727               Bayern  \n",
       "2  2023      3   1.723  1.813  1.753               Bayern  \n",
       "3  2023      4   1.703  1.840  1.780               Bayern  \n",
       "4  2023      1   1.801  1.781  1.721  Nordrhein-Westfalen  "
      ]
     },
     "execution_count": 98,
     "metadata": {},
     "output_type": "execute_result"
    }
   ],
   "source": [
    "df.head()"
   ]
  },
  {
   "cell_type": "code",
   "execution_count": 99,
   "id": "4435f3e9",
   "metadata": {},
   "outputs": [
    {
     "data": {
      "text/plain": [
       "uuid                    0\n",
       "name                    7\n",
       "brand                2169\n",
       "street                  3\n",
       "house_number         2475\n",
       "post_code               0\n",
       "city                   12\n",
       "latitude                0\n",
       "longitude               0\n",
       "first_active            0\n",
       "openingtimes_json       0\n",
       "year                    0\n",
       "month                   0\n",
       "diesel                  0\n",
       "e5                      0\n",
       "e10                     0\n",
       "state                   0\n",
       "dtype: int64"
      ]
     },
     "execution_count": 99,
     "metadata": {},
     "output_type": "execute_result"
    }
   ],
   "source": [
    "# Check for missing values\n",
    "\n",
    "df.isnull().sum()"
   ]
  },
  {
   "cell_type": "code",
   "execution_count": 100,
   "id": "060695b9",
   "metadata": {},
   "outputs": [],
   "source": [
    "dups = df.duplicated()"
   ]
  },
  {
   "cell_type": "code",
   "execution_count": 101,
   "id": "bf2ba5e4",
   "metadata": {},
   "outputs": [
    {
     "data": {
      "text/plain": [
       "(55804,)"
      ]
     },
     "execution_count": 101,
     "metadata": {},
     "output_type": "execute_result"
    }
   ],
   "source": [
    "dups.shape"
   ]
  },
  {
   "cell_type": "code",
   "execution_count": 102,
   "id": "32a1eee5",
   "metadata": {},
   "outputs": [],
   "source": [
    "# Remove rows with missing values in the column 'brand' since this is not crucial for this analysis\n",
    "\n",
    "df_cleaned = df.dropna(subset=['brand'])"
   ]
  },
  {
   "cell_type": "code",
   "execution_count": 103,
   "id": "7d4d4886",
   "metadata": {},
   "outputs": [
    {
     "data": {
      "text/plain": [
       "uuid                    0\n",
       "name                    7\n",
       "brand                   0\n",
       "street                  3\n",
       "house_number         2440\n",
       "post_code               0\n",
       "city                   12\n",
       "latitude                0\n",
       "longitude               0\n",
       "first_active            0\n",
       "openingtimes_json       0\n",
       "year                    0\n",
       "month                   0\n",
       "diesel                  0\n",
       "e5                      0\n",
       "e10                     0\n",
       "state                   0\n",
       "dtype: int64"
      ]
     },
     "execution_count": 103,
     "metadata": {},
     "output_type": "execute_result"
    }
   ],
   "source": [
    "df_cleaned.isnull().sum()"
   ]
  },
  {
   "cell_type": "code",
   "execution_count": 104,
   "id": "76f2efea",
   "metadata": {},
   "outputs": [],
   "source": [
    "df = df_cleaned"
   ]
  },
  {
   "cell_type": "code",
   "execution_count": 105,
   "id": "2ead888d",
   "metadata": {},
   "outputs": [
    {
     "name": "stderr",
     "output_type": "stream",
     "text": [
      "/var/folders/l1/ggt7tv8n4bd823d059sz60v00000gn/T/ipykernel_3251/3600615573.py:1: UserWarning: \n",
      "\n",
      "`distplot` is a deprecated function and will be removed in seaborn v0.14.0.\n",
      "\n",
      "Please adapt your code to use either `displot` (a figure-level function with\n",
      "similar flexibility) or `histplot` (an axes-level function for histograms).\n",
      "\n",
      "For a guide to updating your code to use the new functions, please see\n",
      "https://gist.github.com/mwaskom/de44147ed2974457ad6372750bbe5751\n",
      "\n",
      "  sns.distplot(df['diesel'], bins=25)\n",
      "/opt/anaconda3/lib/python3.11/site-packages/seaborn/_oldcore.py:1119: FutureWarning: use_inf_as_na option is deprecated and will be removed in a future version. Convert inf values to NaN before operating instead.\n",
      "  with pd.option_context('mode.use_inf_as_na', True):\n"
     ]
    },
    {
     "data": {
      "text/plain": [
       "<Axes: xlabel='diesel', ylabel='Density'>"
      ]
     },
     "execution_count": 105,
     "metadata": {},
     "output_type": "execute_result"
    },
    {
     "data": {
      "image/png": "[encoded data removed]",
      "text/plain": [
       "<Figure size 640x480 with 1 Axes>"
      ]
     },
     "metadata": {},
     "output_type": "display_data"
    }
   ],
   "source": [
    "# Check for extreme values\n",
    "\n",
    "sns.distplot(df['diesel'], bins=25)"
   ]
  },
  {
   "cell_type": "code",
   "execution_count": 106,
   "id": "032bb3c6",
   "metadata": {},
   "outputs": [
    {
     "data": {
      "text/plain": [
       "1.7501610329076163"
      ]
     },
     "execution_count": 106,
     "metadata": {},
     "output_type": "execute_result"
    }
   ],
   "source": [
    "df['diesel'].mean()"
   ]
  },
  {
   "cell_type": "code",
   "execution_count": 107,
   "id": "b05c3ae5",
   "metadata": {},
   "outputs": [
    {
     "data": {
      "text/plain": [
       "1.736"
      ]
     },
     "execution_count": 107,
     "metadata": {},
     "output_type": "execute_result"
    }
   ],
   "source": [
    "df['diesel'].median()"
   ]
  },
  {
   "cell_type": "code",
   "execution_count": 108,
   "id": "939c8cd6",
   "metadata": {},
   "outputs": [
    {
     "data": {
      "text/plain": [
       "3.0"
      ]
     },
     "execution_count": 108,
     "metadata": {},
     "output_type": "execute_result"
    }
   ],
   "source": [
    "df['diesel'].max()"
   ]
  },
  {
   "cell_type": "code",
   "execution_count": 109,
   "id": "11772385",
   "metadata": {},
   "outputs": [],
   "source": [
    "# Create a subset from the columns 'e10', 'diesel' and 'state'\n",
    "\n",
    "df_lin = df[['e10', 'diesel', 'state']]"
   ]
  },
  {
   "cell_type": "code",
   "execution_count": 110,
   "id": "a73bc5fb",
   "metadata": {},
   "outputs": [],
   "source": [
    "df_lin = df_lin.query('e10 != 0 and diesel != 0')"
   ]
  },
  {
   "cell_type": "code",
   "execution_count": 111,
   "id": "ac637c10",
   "metadata": {},
   "outputs": [],
   "source": [
    "# Remove any low and high outliers\n",
    "\n",
    "df_lin = df_lin.query('e10 >= 1.5 and diesel >= 1.4')\n",
    "df_lin = df_lin.query('e10 < 2.6 and diesel < 2.6')"
   ]
  },
  {
   "cell_type": "markdown",
   "id": "ccc7ca62",
   "metadata": {},
   "source": [
    "### 3. Data prep for regression analysis"
   ]
  },
  {
   "cell_type": "code",
   "execution_count": 129,
   "id": "e028f877",
   "metadata": {},
   "outputs": [
    {
     "data": {
      "image/png": "[encoded data removed]",
      "text/plain": [
       "<Figure size 640x480 with 1 Axes>"
      ]
     },
     "metadata": {},
     "output_type": "display_data"
    }
   ],
   "source": [
    "df_lin.plot(x = 'e10', y='diesel',style='o')\n",
    "plt.title('E10 & Diesel price (€)')  \n",
    "plt.xlabel('E10 price')  \n",
    "plt.ylabel('Diesel price')  \n",
    "plt.show()"
   ]
  },
  {
   "cell_type": "code",
   "execution_count": 113,
   "id": "2514750a",
   "metadata": {},
   "outputs": [],
   "source": [
    "# Reshape the variables into NumPy arrays and put them into separate objects.\n",
    "\n",
    "X = df_lin['e10'].values.reshape(-1,1)\n",
    "y = df_lin['diesel'].values.reshape(-1,1)"
   ]
  },
  {
   "cell_type": "code",
   "execution_count": 114,
   "id": "1366094f",
   "metadata": {},
   "outputs": [
    {
     "data": {
      "text/plain": [
       "array([[1.706],\n",
       "       [1.727],\n",
       "       [1.753],\n",
       "       ...,\n",
       "       [2.255],\n",
       "       [1.889],\n",
       "       [1.941]])"
      ]
     },
     "execution_count": 114,
     "metadata": {},
     "output_type": "execute_result"
    }
   ],
   "source": [
    "X"
   ]
  },
  {
   "cell_type": "code",
   "execution_count": 115,
   "id": "2bd7ed7a",
   "metadata": {},
   "outputs": [
    {
     "data": {
      "text/plain": [
       "array([[1.814],\n",
       "       [1.752],\n",
       "       [1.723],\n",
       "       ...,\n",
       "       [2.137],\n",
       "       [1.769],\n",
       "       [1.845]])"
      ]
     },
     "execution_count": 115,
     "metadata": {},
     "output_type": "execute_result"
    }
   ],
   "source": [
    "y"
   ]
  },
  {
   "cell_type": "code",
   "execution_count": 116,
   "id": "fed8c099",
   "metadata": {},
   "outputs": [],
   "source": [
    "# Split data into a training set and a test set.\n",
    "\n",
    "X_train, X_test, y_train, y_test = train_test_split(X, y, test_size=0.3, random_state=0)"
   ]
  },
  {
   "cell_type": "markdown",
   "id": "d61ebb8a",
   "metadata": {},
   "source": [
    "### 4. Regression analysis"
   ]
  },
  {
   "cell_type": "code",
   "execution_count": 117,
   "id": "b901d14e",
   "metadata": {},
   "outputs": [],
   "source": [
    "# Create a regression object.\n",
    "\n",
    "regression = LinearRegression()  # This is the regression object, which will be fit onto the training set."
   ]
  },
  {
   "cell_type": "code",
   "execution_count": 118,
   "id": "9c0aee35",
   "metadata": {},
   "outputs": [
    {
     "data": {
      "text/html": [
       "<style>#sk-container-id-2 {color: black;background-color: white;}#sk-container-id-2 pre{padding: 0;}#sk-container-id-2 div.sk-toggleable {background-color: white;}#sk-container-id-2 label.sk-toggleable__label {cursor: pointer;display: block;width: 100%;margin-bottom: 0;padding: 0.3em;box-sizing: border-box;text-align: center;}#sk-container-id-2 label.sk-toggleable__label-arrow:before {content: \"▸\";float: left;margin-right: 0.25em;color: #696969;}#sk-container-id-2 label.sk-toggleable__label-arrow:hover:before {color: black;}#sk-container-id-2 div.sk-estimator:hover label.sk-toggleable__label-arrow:before {color: black;}#sk-container-id-2 div.sk-toggleable__content {max-height: 0;max-width: 0;overflow: hidden;text-align: left;background-color: #f0f8ff;}#sk-container-id-2 div.sk-toggleable__content pre {margin: 0.2em;color: black;border-radius: 0.25em;background-color: #f0f8ff;}#sk-container-id-2 input.sk-toggleable__control:checked~div.sk-toggleable__content {max-height: 200px;max-width: 100%;overflow: auto;}#sk-container-id-2 input.sk-toggleable__control:checked~label.sk-toggleable__label-arrow:before {content: \"▾\";}#sk-container-id-2 div.sk-estimator input.sk-toggleable__control:checked~label.sk-toggleable__label {background-color: #d4ebff;}#sk-container-id-2 div.sk-label input.sk-toggleable__control:checked~label.sk-toggleable__label {background-color: #d4ebff;}#sk-container-id-2 input.sk-hidden--visually {border: 0;clip: rect(1px 1px 1px 1px);clip: rect(1px, 1px, 1px, 1px);height: 1px;margin: -1px;overflow: hidden;padding: 0;position: absolute;width: 1px;}#sk-container-id-2 div.sk-estimator {font-family: monospace;background-color: #f0f8ff;border: 1px dotted black;border-radius: 0.25em;box-sizing: border-box;margin-bottom: 0.5em;}#sk-container-id-2 div.sk-estimator:hover {background-color: #d4ebff;}#sk-container-id-2 div.sk-parallel-item::after {content: \"\";width: 100%;border-bottom: 1px solid gray;flex-grow: 1;}#sk-container-id-2 div.sk-label:hover label.sk-toggleable__label {background-color: #d4ebff;}#sk-container-id-2 div.sk-serial::before {content: \"\";position: absolute;border-left: 1px solid gray;box-sizing: border-box;top: 0;bottom: 0;left: 50%;z-index: 0;}#sk-container-id-2 div.sk-serial {display: flex;flex-direction: column;align-items: center;background-color: white;padding-right: 0.2em;padding-left: 0.2em;position: relative;}#sk-container-id-2 div.sk-item {position: relative;z-index: 1;}#sk-container-id-2 div.sk-parallel {display: flex;align-items: stretch;justify-content: center;background-color: white;position: relative;}#sk-container-id-2 div.sk-item::before, #sk-container-id-2 div.sk-parallel-item::before {content: \"\";position: absolute;border-left: 1px solid gray;box-sizing: border-box;top: 0;bottom: 0;left: 50%;z-index: -1;}#sk-container-id-2 div.sk-parallel-item {display: flex;flex-direction: column;z-index: 1;position: relative;background-color: white;}#sk-container-id-2 div.sk-parallel-item:first-child::after {align-self: flex-end;width: 50%;}#sk-container-id-2 div.sk-parallel-item:last-child::after {align-self: flex-start;width: 50%;}#sk-container-id-2 div.sk-parallel-item:only-child::after {width: 0;}#sk-container-id-2 div.sk-dashed-wrapped {border: 1px dashed gray;margin: 0 0.4em 0.5em 0.4em;box-sizing: border-box;padding-bottom: 0.4em;background-color: white;}#sk-container-id-2 div.sk-label label {font-family: monospace;font-weight: bold;display: inline-block;line-height: 1.2em;}#sk-container-id-2 div.sk-label-container {text-align: center;}#sk-container-id-2 div.sk-container {/* jupyter's `normalize.less` sets `[hidden] { display: none; }` but bootstrap.min.css set `[hidden] { display: none !important; }` so we also need the `!important` here to be able to override the default hidden behavior on the sphinx rendered scikit-learn.org. See: https://github.com/scikit-learn/scikit-learn/issues/21755 */display: inline-block !important;position: relative;}#sk-container-id-2 div.sk-text-repr-fallback {display: none;}</style><div id=\"sk-container-id-2\" class=\"sk-top-container\"><div class=\"sk-text-repr-fallback\"><pre>LinearRegression()</pre><b>In a Jupyter environment, please rerun this cell to show the HTML representation or trust the notebook. <br />On GitHub, the HTML representation is unable to render, please try loading this page with nbviewer.org.</b></div><div class=\"sk-container\" hidden><div class=\"sk-item\"><div class=\"sk-estimator sk-toggleable\"><input class=\"sk-toggleable__control sk-hidden--visually\" id=\"sk-estimator-id-2\" type=\"checkbox\" checked><label for=\"sk-estimator-id-2\" class=\"sk-toggleable__label sk-toggleable__label-arrow\">LinearRegression</label><div class=\"sk-toggleable__content\"><pre>LinearRegression()</pre></div></div></div></div></div>"
      ],
      "text/plain": [
       "LinearRegression()"
      ]
     },
     "execution_count": 118,
     "metadata": {},
     "output_type": "execute_result"
    }
   ],
   "source": [
    "# Fit the regression object onto the training set.\n",
    "\n",
    "regression.fit(X_train, y_train)"
   ]
  },
  {
   "cell_type": "code",
   "execution_count": 119,
   "id": "6c2e6916",
   "metadata": {},
   "outputs": [],
   "source": [
    "# Predict the values of y using X.\n",
    "\n",
    "y_predicted = regression.predict(X_test)"
   ]
  },
  {
   "cell_type": "code",
   "execution_count": 130,
   "id": "69e5744f",
   "metadata": {
    "scrolled": false
   },
   "outputs": [
    {
     "data": {
      "image/png": "[encoded data removed]",
      "text/plain": [
       "<Figure size 640x480 with 1 Axes>"
      ]
     },
     "metadata": {},
     "output_type": "display_data"
    }
   ],
   "source": [
    "# Create a plot that shows the regression line from the model on the test set.\n",
    "\n",
    "plot_test = plt\n",
    "plot_test.scatter(X_test, y_test, color='gray', s = 15)\n",
    "plot_test.plot(X_test, y_predicted, color='red', linewidth =3)\n",
    "plot_test.title('E10 vs Diesel Price (€) (Test set)')\n",
    "plot_test.xlabel('E10 price')\n",
    "plot_test.ylabel('Diesel price')\n",
    "plot_test.show()"
   ]
  },
  {
   "cell_type": "markdown",
   "id": "437db485",
   "metadata": {},
   "source": [
    "The line appears to fit the data well. There's a clear upward trend in diesel price as E10 price increases. However, there are some data points scattered below the line, indicating that the price of diesel isn't perfectly predictable by E10 price alone."
   ]
  },
  {
   "cell_type": "code",
   "execution_count": 121,
   "id": "5ee3ab11",
   "metadata": {},
   "outputs": [],
   "source": [
    "# Create objects that contain the model summary statistics.\n",
    "\n",
    "rmse = mean_squared_error(y_test, y_predicted) # This is the mean squared error\n",
    "r2 = r2_score(y_test, y_predicted) # This is the R2 score. "
   ]
  },
  {
   "cell_type": "code",
   "execution_count": 122,
   "id": "da438ad3",
   "metadata": {},
   "outputs": [
    {
     "name": "stdout",
     "output_type": "stream",
     "text": [
      "Slope: [[0.67627504]]\n",
      "Mean squared error:  0.005528496970678603\n",
      "R2 score:  0.3631839553209162\n"
     ]
    }
   ],
   "source": [
    "# Print the model summary statistics. This is where you evaluate the performance of the model.\n",
    "\n",
    "print('Slope:' ,regression.coef_)\n",
    "print('Mean squared error: ', rmse)\n",
    "print('R2 score: ', r2)"
   ]
  },
  {
   "cell_type": "markdown",
   "id": "ff00ef0a",
   "metadata": {},
   "source": [
    "Th positive slope indicates a positive correlation between E10 and diesel price, which is consistent with the visual trend.\n",
    "\n",
    "Low mean squared error suggests that the model makes decent predictions on average.\n",
    "\n",
    "The R2 score is only 0.36, which means the model explains only about 36% of the variance in diesel price. There are likely other factors influencing diesel price besides E10."
   ]
  },
  {
   "cell_type": "code",
   "execution_count": 123,
   "id": "b4367013",
   "metadata": {},
   "outputs": [
    {
     "data": {
      "text/plain": [
       "array([[1.73921395],\n",
       "       [1.75476827],\n",
       "       [1.75612082],\n",
       "       ...,\n",
       "       [1.70945785],\n",
       "       [1.7567971 ],\n",
       "       [1.72501217]])"
      ]
     },
     "execution_count": 123,
     "metadata": {},
     "output_type": "execute_result"
    }
   ],
   "source": [
    "y_predicted"
   ]
  },
  {
   "cell_type": "code",
   "execution_count": 124,
   "id": "249a6460",
   "metadata": {},
   "outputs": [
    {
     "data": {
      "text/html": [
       "<div>\n",
       "<style scoped>\n",
       "    .dataframe tbody tr th:only-of-type {\n",
       "        vertical-align: middle;\n",
       "    }\n",
       "\n",
       "    .dataframe tbody tr th {\n",
       "        vertical-align: top;\n",
       "    }\n",
       "\n",
       "    .dataframe thead th {\n",
       "        text-align: right;\n",
       "    }\n",
       "</style>\n",
       "<table border=\"1\" class=\"dataframe\">\n",
       "  <thead>\n",
       "    <tr style=\"text-align: right;\">\n",
       "      <th></th>\n",
       "      <th>Actual</th>\n",
       "      <th>Predicted</th>\n",
       "    </tr>\n",
       "  </thead>\n",
       "  <tbody>\n",
       "    <tr>\n",
       "      <th>0</th>\n",
       "      <td>1.777</td>\n",
       "      <td>1.739214</td>\n",
       "    </tr>\n",
       "    <tr>\n",
       "      <th>1</th>\n",
       "      <td>1.708</td>\n",
       "      <td>1.754768</td>\n",
       "    </tr>\n",
       "    <tr>\n",
       "      <th>2</th>\n",
       "      <td>1.812</td>\n",
       "      <td>1.756121</td>\n",
       "    </tr>\n",
       "    <tr>\n",
       "      <th>3</th>\n",
       "      <td>1.594</td>\n",
       "      <td>1.725688</td>\n",
       "    </tr>\n",
       "    <tr>\n",
       "      <th>4</th>\n",
       "      <td>1.614</td>\n",
       "      <td>1.743272</td>\n",
       "    </tr>\n",
       "    <tr>\n",
       "      <th>5</th>\n",
       "      <td>1.876</td>\n",
       "      <td>1.760855</td>\n",
       "    </tr>\n",
       "    <tr>\n",
       "      <th>6</th>\n",
       "      <td>1.728</td>\n",
       "      <td>1.719602</td>\n",
       "    </tr>\n",
       "    <tr>\n",
       "      <th>7</th>\n",
       "      <td>1.832</td>\n",
       "      <td>1.705400</td>\n",
       "    </tr>\n",
       "    <tr>\n",
       "      <th>8</th>\n",
       "      <td>1.827</td>\n",
       "      <td>1.699314</td>\n",
       "    </tr>\n",
       "    <tr>\n",
       "      <th>9</th>\n",
       "      <td>1.846</td>\n",
       "      <td>1.725688</td>\n",
       "    </tr>\n",
       "    <tr>\n",
       "      <th>10</th>\n",
       "      <td>1.720</td>\n",
       "      <td>1.752063</td>\n",
       "    </tr>\n",
       "    <tr>\n",
       "      <th>11</th>\n",
       "      <td>1.779</td>\n",
       "      <td>1.743948</td>\n",
       "    </tr>\n",
       "    <tr>\n",
       "      <th>12</th>\n",
       "      <td>1.697</td>\n",
       "      <td>1.733804</td>\n",
       "    </tr>\n",
       "    <tr>\n",
       "      <th>13</th>\n",
       "      <td>1.822</td>\n",
       "      <td>1.727717</td>\n",
       "    </tr>\n",
       "    <tr>\n",
       "      <th>14</th>\n",
       "      <td>1.724</td>\n",
       "      <td>1.769646</td>\n",
       "    </tr>\n",
       "    <tr>\n",
       "      <th>15</th>\n",
       "      <td>1.707</td>\n",
       "      <td>1.784524</td>\n",
       "    </tr>\n",
       "    <tr>\n",
       "      <th>16</th>\n",
       "      <td>1.692</td>\n",
       "      <td>1.729746</td>\n",
       "    </tr>\n",
       "    <tr>\n",
       "      <th>17</th>\n",
       "      <td>1.882</td>\n",
       "      <td>1.747329</td>\n",
       "    </tr>\n",
       "    <tr>\n",
       "      <th>18</th>\n",
       "      <td>2.019</td>\n",
       "      <td>1.796697</td>\n",
       "    </tr>\n",
       "    <tr>\n",
       "      <th>19</th>\n",
       "      <td>1.815</td>\n",
       "      <td>1.706753</td>\n",
       "    </tr>\n",
       "    <tr>\n",
       "      <th>20</th>\n",
       "      <td>1.718</td>\n",
       "      <td>1.727041</td>\n",
       "    </tr>\n",
       "    <tr>\n",
       "      <th>21</th>\n",
       "      <td>1.763</td>\n",
       "      <td>1.769646</td>\n",
       "    </tr>\n",
       "    <tr>\n",
       "      <th>22</th>\n",
       "      <td>1.681</td>\n",
       "      <td>1.710810</td>\n",
       "    </tr>\n",
       "    <tr>\n",
       "      <th>23</th>\n",
       "      <td>1.689</td>\n",
       "      <td>1.763560</td>\n",
       "    </tr>\n",
       "    <tr>\n",
       "      <th>24</th>\n",
       "      <td>1.638</td>\n",
       "      <td>1.740566</td>\n",
       "    </tr>\n",
       "    <tr>\n",
       "      <th>25</th>\n",
       "      <td>1.800</td>\n",
       "      <td>1.706753</td>\n",
       "    </tr>\n",
       "    <tr>\n",
       "      <th>26</th>\n",
       "      <td>1.722</td>\n",
       "      <td>1.739214</td>\n",
       "    </tr>\n",
       "    <tr>\n",
       "      <th>27</th>\n",
       "      <td>1.811</td>\n",
       "      <td>1.750034</td>\n",
       "    </tr>\n",
       "    <tr>\n",
       "      <th>28</th>\n",
       "      <td>1.838</td>\n",
       "      <td>1.746653</td>\n",
       "    </tr>\n",
       "    <tr>\n",
       "      <th>29</th>\n",
       "      <td>1.636</td>\n",
       "      <td>1.749358</td>\n",
       "    </tr>\n",
       "  </tbody>\n",
       "</table>\n",
       "</div>"
      ],
      "text/plain": [
       "    Actual  Predicted\n",
       "0    1.777   1.739214\n",
       "1    1.708   1.754768\n",
       "2    1.812   1.756121\n",
       "3    1.594   1.725688\n",
       "4    1.614   1.743272\n",
       "5    1.876   1.760855\n",
       "6    1.728   1.719602\n",
       "7    1.832   1.705400\n",
       "8    1.827   1.699314\n",
       "9    1.846   1.725688\n",
       "10   1.720   1.752063\n",
       "11   1.779   1.743948\n",
       "12   1.697   1.733804\n",
       "13   1.822   1.727717\n",
       "14   1.724   1.769646\n",
       "15   1.707   1.784524\n",
       "16   1.692   1.729746\n",
       "17   1.882   1.747329\n",
       "18   2.019   1.796697\n",
       "19   1.815   1.706753\n",
       "20   1.718   1.727041\n",
       "21   1.763   1.769646\n",
       "22   1.681   1.710810\n",
       "23   1.689   1.763560\n",
       "24   1.638   1.740566\n",
       "25   1.800   1.706753\n",
       "26   1.722   1.739214\n",
       "27   1.811   1.750034\n",
       "28   1.838   1.746653\n",
       "29   1.636   1.749358"
      ]
     },
     "execution_count": 124,
     "metadata": {},
     "output_type": "execute_result"
    }
   ],
   "source": [
    "# Create a dataframe comparing the actual and predicted values of y.\n",
    "\n",
    "df_predicted = pd.DataFrame({'Actual': y_test.flatten(), 'Predicted': y_predicted.flatten()})\n",
    "df_predicted.head(30)"
   ]
  },
  {
   "cell_type": "markdown",
   "id": "a14d0748",
   "metadata": {},
   "source": [
    "##### Compare how the regression fits the training set"
   ]
  },
  {
   "cell_type": "code",
   "execution_count": 125,
   "id": "315e676b",
   "metadata": {},
   "outputs": [],
   "source": [
    "# Predict.\n",
    "\n",
    "y_predicted_train = regression.predict(X_train) # This is predicting X_train!"
   ]
  },
  {
   "cell_type": "code",
   "execution_count": 126,
   "id": "085540d4",
   "metadata": {},
   "outputs": [],
   "source": [
    "rmse = mean_squared_error(y_train, y_predicted_train)\n",
    "r2 = r2_score(y_train, y_predicted_train)"
   ]
  },
  {
   "cell_type": "code",
   "execution_count": 127,
   "id": "9e0affc5",
   "metadata": {
    "scrolled": true
   },
   "outputs": [
    {
     "name": "stdout",
     "output_type": "stream",
     "text": [
      "Slope: [[0.67627504]]\n",
      "Mean squared error:  0.00550092463273779\n",
      "R2 score:  0.34483099482483703\n"
     ]
    }
   ],
   "source": [
    "print('Slope:' ,regression.coef_)\n",
    "print('Mean squared error: ', rmse)\n",
    "print('R2 score: ', r2)"
   ]
  },
  {
   "cell_type": "code",
   "execution_count": 131,
   "id": "7db47fe0",
   "metadata": {},
   "outputs": [
    {
     "data": {
      "image/png": "[encoded data removed]",
      "text/plain": [
       "<Figure size 640x480 with 1 Axes>"
      ]
     },
     "metadata": {},
     "output_type": "display_data"
    }
   ],
   "source": [
    "# Visualizing the training set results.\n",
    "\n",
    "plot_test = plt\n",
    "plot_test.scatter(X_train, y_train, color='green', s = 15)\n",
    "plot_test.plot(X_train, y_predicted_train, color='red', linewidth =3)\n",
    "plot_test.title('E10 vs Diesel Price (€) (Train set)')\n",
    "plot_test.xlabel('E10 Price')\n",
    "plot_test.ylabel('Diesel Price')\n",
    "plot_test.show()"
   ]
  },
  {
   "cell_type": "markdown",
   "id": "ae3697ae",
   "metadata": {},
   "source": [
    "Positive slope with the value 0.676 is consistent with a positive correlation between E10 and diesel price.\n",
    "\n",
    "Low mean squared error at 0.0055, indicates the model makes decent predictions on average.\n",
    "\n",
    "The R2 score remains around 0.34, implying the model explains only about 34% of the variance in diesel price.\n",
    "\n",
    "There's a slight decrease in R2 score compared to the previous result (0.36), suggesting a minimal decline in explanatory power. However, it's still a relatively low value.\n",
    "\n",
    "In terms of possible data bias, if the dataset primarily consists of high E10 prices alongside high diesel prices, the model might overestimate the impact of E10 on diesel price.\n",
    "\n",
    "The model captures a positive trend but has limitations. It might be beneficial to explore including more features or considering non-linear relationships to improve the model's ability to explain diesel price variations."
   ]
  }
 ],
 "metadata": {
  "kernelspec": {
   "display_name": "Python 3 (ipykernel)",
   "language": "python",
   "name": "python3"
  },
  "language_info": {
   "codemirror_mode": {
    "name": "ipython",
    "version": 3
   },
   "file_extension": ".py",
   "mimetype": "text/x-python",
   "name": "python",
   "nbconvert_exporter": "python",
   "pygments_lexer": "ipython3",
   "version": "3.11.7"
  }
 },
 "nbformat": 4,
 "nbformat_minor": 5
}
